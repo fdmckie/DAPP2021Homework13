{
 "cells": [
  {
   "cell_type": "markdown",
   "metadata": {},
   "source": [
    "## Module 13 Exercise - Correlation and Linear Regression"
   ]
  },
  {
   "cell_type": "markdown",
   "metadata": {},
   "source": [
    "### 1. Complete the code below to import the four libraries that we've primarily covered in the class. "
   ]
  },
  {
   "cell_type": "code",
   "execution_count": 1,
   "metadata": {},
   "outputs": [],
   "source": [
    "# import _____ as pd\n",
    "# import _____ as np\n",
    "# import _____ as stats\n",
    "# import _____ as sm\n",
    "\n",
    "# import the pandas, numpy libraries\n",
    "# import the scipy.stats library (for statistics functions)\n",
    "# import the StatsModels library (for regression analysis)\n",
    "\n",
    "import pandas as pd\n",
    "import numpy as np\n",
    "import scipy.stats as stats\n",
    "import statsmodels.formula.api as sm\n"
   ]
  },
  {
   "cell_type": "markdown",
   "metadata": {},
   "source": [
    "### 2. Import the \"babies.csv\" file and name it df. \n",
    "\n",
    "<b>BACKGROUND INFO</b>\n",
    "\n",
    "    The Child Health and Development Studies considered all pregnancies between 1960 and 1967 among women in the Kaiser Foundation Health Plan in the San Francisco East Bay area. The goal is to model the weight of the infants (bwt, in ounces) using variables including length of pregnancy in days (gestation), mother's age in years (age), mother's height in inches (height), whether the child was the first born (parity), mother's pregnancy weight in pounds (weight), and whether the mother was a smoker (smoke).\n",
    "\n",
    "<b>VARIABLES</b>\n",
    "\n",
    "    case - id number\n",
    "    bwt - birthweight, in ounces\n",
    "    gestation - length of gestation, in days\n",
    "    parity - binary indicator for a first pregnancy (0=first pregnancy)\n",
    "    age - mother's age in years\n",
    "    height - mother's height in inches\n",
    "    weight - mother's weight in pounds\n",
    "    smoke - binary indicator for whether the mother smokes"
   ]
  },
  {
   "cell_type": "code",
   "execution_count": 2,
   "metadata": {},
   "outputs": [],
   "source": [
    "# import the \"babies\" file into a variable named \"df\" which will be used as a dataset...\n",
    "\n",
    "df = pd.read_csv(\"datasets/babies.csv\")"
   ]
  },
  {
   "cell_type": "markdown",
   "metadata": {},
   "source": [
    "### 3. Check the shape of the dataset. How many columns are there? How many rows?"
   ]
  },
  {
   "cell_type": "code",
   "execution_count": 4,
   "metadata": {},
   "outputs": [
    {
     "data": {
      "text/plain": [
       "(1236, 8)"
      ]
     },
     "execution_count": 4,
     "metadata": {},
     "output_type": "execute_result"
    }
   ],
   "source": [
    "# check the \"shape\" of the dataset via the \"shape\" function...\n",
    "df.shape"
   ]
  },
  {
   "cell_type": "code",
   "execution_count": null,
   "metadata": {},
   "outputs": [],
   "source": [
    "# dataset \"df\" has 1,236 rows & 8 columns..."
   ]
  },
  {
   "cell_type": "markdown",
   "metadata": {},
   "source": [
    "### 4. Check the first 10 rows and the last 10 rows of the dataset. Drop the column \"case\". "
   ]
  },
  {
   "cell_type": "code",
   "execution_count": 5,
   "metadata": {},
   "outputs": [
    {
     "data": {
      "text/html": [
       "<div>\n",
       "<style scoped>\n",
       "    .dataframe tbody tr th:only-of-type {\n",
       "        vertical-align: middle;\n",
       "    }\n",
       "\n",
       "    .dataframe tbody tr th {\n",
       "        vertical-align: top;\n",
       "    }\n",
       "\n",
       "    .dataframe thead th {\n",
       "        text-align: right;\n",
       "    }\n",
       "</style>\n",
       "<table border=\"1\" class=\"dataframe\">\n",
       "  <thead>\n",
       "    <tr style=\"text-align: right;\">\n",
       "      <th></th>\n",
       "      <th>case</th>\n",
       "      <th>bwt</th>\n",
       "      <th>gestation</th>\n",
       "      <th>parity</th>\n",
       "      <th>age</th>\n",
       "      <th>height</th>\n",
       "      <th>weight</th>\n",
       "      <th>smoke</th>\n",
       "    </tr>\n",
       "  </thead>\n",
       "  <tbody>\n",
       "    <tr>\n",
       "      <th>0</th>\n",
       "      <td>1</td>\n",
       "      <td>120</td>\n",
       "      <td>284.0</td>\n",
       "      <td>0</td>\n",
       "      <td>27.0</td>\n",
       "      <td>62.0</td>\n",
       "      <td>100.0</td>\n",
       "      <td>0.0</td>\n",
       "    </tr>\n",
       "    <tr>\n",
       "      <th>1</th>\n",
       "      <td>2</td>\n",
       "      <td>113</td>\n",
       "      <td>282.0</td>\n",
       "      <td>0</td>\n",
       "      <td>33.0</td>\n",
       "      <td>64.0</td>\n",
       "      <td>135.0</td>\n",
       "      <td>0.0</td>\n",
       "    </tr>\n",
       "    <tr>\n",
       "      <th>2</th>\n",
       "      <td>3</td>\n",
       "      <td>128</td>\n",
       "      <td>279.0</td>\n",
       "      <td>0</td>\n",
       "      <td>28.0</td>\n",
       "      <td>64.0</td>\n",
       "      <td>115.0</td>\n",
       "      <td>1.0</td>\n",
       "    </tr>\n",
       "    <tr>\n",
       "      <th>3</th>\n",
       "      <td>4</td>\n",
       "      <td>123</td>\n",
       "      <td>NaN</td>\n",
       "      <td>0</td>\n",
       "      <td>36.0</td>\n",
       "      <td>69.0</td>\n",
       "      <td>190.0</td>\n",
       "      <td>0.0</td>\n",
       "    </tr>\n",
       "    <tr>\n",
       "      <th>4</th>\n",
       "      <td>5</td>\n",
       "      <td>108</td>\n",
       "      <td>282.0</td>\n",
       "      <td>0</td>\n",
       "      <td>23.0</td>\n",
       "      <td>67.0</td>\n",
       "      <td>125.0</td>\n",
       "      <td>1.0</td>\n",
       "    </tr>\n",
       "    <tr>\n",
       "      <th>5</th>\n",
       "      <td>6</td>\n",
       "      <td>136</td>\n",
       "      <td>286.0</td>\n",
       "      <td>0</td>\n",
       "      <td>25.0</td>\n",
       "      <td>62.0</td>\n",
       "      <td>93.0</td>\n",
       "      <td>0.0</td>\n",
       "    </tr>\n",
       "    <tr>\n",
       "      <th>6</th>\n",
       "      <td>7</td>\n",
       "      <td>138</td>\n",
       "      <td>244.0</td>\n",
       "      <td>0</td>\n",
       "      <td>33.0</td>\n",
       "      <td>62.0</td>\n",
       "      <td>178.0</td>\n",
       "      <td>0.0</td>\n",
       "    </tr>\n",
       "    <tr>\n",
       "      <th>7</th>\n",
       "      <td>8</td>\n",
       "      <td>132</td>\n",
       "      <td>245.0</td>\n",
       "      <td>0</td>\n",
       "      <td>23.0</td>\n",
       "      <td>65.0</td>\n",
       "      <td>140.0</td>\n",
       "      <td>0.0</td>\n",
       "    </tr>\n",
       "    <tr>\n",
       "      <th>8</th>\n",
       "      <td>9</td>\n",
       "      <td>120</td>\n",
       "      <td>289.0</td>\n",
       "      <td>0</td>\n",
       "      <td>25.0</td>\n",
       "      <td>62.0</td>\n",
       "      <td>125.0</td>\n",
       "      <td>0.0</td>\n",
       "    </tr>\n",
       "    <tr>\n",
       "      <th>9</th>\n",
       "      <td>10</td>\n",
       "      <td>143</td>\n",
       "      <td>299.0</td>\n",
       "      <td>0</td>\n",
       "      <td>30.0</td>\n",
       "      <td>66.0</td>\n",
       "      <td>136.0</td>\n",
       "      <td>1.0</td>\n",
       "    </tr>\n",
       "  </tbody>\n",
       "</table>\n",
       "</div>"
      ],
      "text/plain": [
       "   case  bwt  gestation  parity   age  height  weight  smoke\n",
       "0     1  120      284.0       0  27.0    62.0   100.0    0.0\n",
       "1     2  113      282.0       0  33.0    64.0   135.0    0.0\n",
       "2     3  128      279.0       0  28.0    64.0   115.0    1.0\n",
       "3     4  123        NaN       0  36.0    69.0   190.0    0.0\n",
       "4     5  108      282.0       0  23.0    67.0   125.0    1.0\n",
       "5     6  136      286.0       0  25.0    62.0    93.0    0.0\n",
       "6     7  138      244.0       0  33.0    62.0   178.0    0.0\n",
       "7     8  132      245.0       0  23.0    65.0   140.0    0.0\n",
       "8     9  120      289.0       0  25.0    62.0   125.0    0.0\n",
       "9    10  143      299.0       0  30.0    66.0   136.0    1.0"
      ]
     },
     "execution_count": 5,
     "metadata": {},
     "output_type": "execute_result"
    }
   ],
   "source": [
    "# use the \"head\" function to view/display the first 10 rows of the \"df\" dataset...\n",
    "\n",
    "df.head(10)"
   ]
  },
  {
   "cell_type": "code",
   "execution_count": 6,
   "metadata": {},
   "outputs": [
    {
     "data": {
      "text/html": [
       "<div>\n",
       "<style scoped>\n",
       "    .dataframe tbody tr th:only-of-type {\n",
       "        vertical-align: middle;\n",
       "    }\n",
       "\n",
       "    .dataframe tbody tr th {\n",
       "        vertical-align: top;\n",
       "    }\n",
       "\n",
       "    .dataframe thead th {\n",
       "        text-align: right;\n",
       "    }\n",
       "</style>\n",
       "<table border=\"1\" class=\"dataframe\">\n",
       "  <thead>\n",
       "    <tr style=\"text-align: right;\">\n",
       "      <th></th>\n",
       "      <th>case</th>\n",
       "      <th>bwt</th>\n",
       "      <th>gestation</th>\n",
       "      <th>parity</th>\n",
       "      <th>age</th>\n",
       "      <th>height</th>\n",
       "      <th>weight</th>\n",
       "      <th>smoke</th>\n",
       "    </tr>\n",
       "  </thead>\n",
       "  <tbody>\n",
       "    <tr>\n",
       "      <th>1226</th>\n",
       "      <td>1227</td>\n",
       "      <td>109</td>\n",
       "      <td>244.0</td>\n",
       "      <td>1</td>\n",
       "      <td>21.0</td>\n",
       "      <td>63.0</td>\n",
       "      <td>102.0</td>\n",
       "      <td>1.0</td>\n",
       "    </tr>\n",
       "    <tr>\n",
       "      <th>1227</th>\n",
       "      <td>1228</td>\n",
       "      <td>103</td>\n",
       "      <td>278.0</td>\n",
       "      <td>0</td>\n",
       "      <td>30.0</td>\n",
       "      <td>60.0</td>\n",
       "      <td>87.0</td>\n",
       "      <td>1.0</td>\n",
       "    </tr>\n",
       "    <tr>\n",
       "      <th>1228</th>\n",
       "      <td>1229</td>\n",
       "      <td>118</td>\n",
       "      <td>276.0</td>\n",
       "      <td>0</td>\n",
       "      <td>34.0</td>\n",
       "      <td>64.0</td>\n",
       "      <td>116.0</td>\n",
       "      <td>0.0</td>\n",
       "    </tr>\n",
       "    <tr>\n",
       "      <th>1229</th>\n",
       "      <td>1230</td>\n",
       "      <td>127</td>\n",
       "      <td>290.0</td>\n",
       "      <td>0</td>\n",
       "      <td>27.0</td>\n",
       "      <td>65.0</td>\n",
       "      <td>121.0</td>\n",
       "      <td>0.0</td>\n",
       "    </tr>\n",
       "    <tr>\n",
       "      <th>1230</th>\n",
       "      <td>1231</td>\n",
       "      <td>132</td>\n",
       "      <td>270.0</td>\n",
       "      <td>0</td>\n",
       "      <td>27.0</td>\n",
       "      <td>65.0</td>\n",
       "      <td>126.0</td>\n",
       "      <td>0.0</td>\n",
       "    </tr>\n",
       "    <tr>\n",
       "      <th>1231</th>\n",
       "      <td>1232</td>\n",
       "      <td>113</td>\n",
       "      <td>275.0</td>\n",
       "      <td>1</td>\n",
       "      <td>27.0</td>\n",
       "      <td>60.0</td>\n",
       "      <td>100.0</td>\n",
       "      <td>0.0</td>\n",
       "    </tr>\n",
       "    <tr>\n",
       "      <th>1232</th>\n",
       "      <td>1233</td>\n",
       "      <td>128</td>\n",
       "      <td>265.0</td>\n",
       "      <td>0</td>\n",
       "      <td>24.0</td>\n",
       "      <td>67.0</td>\n",
       "      <td>120.0</td>\n",
       "      <td>0.0</td>\n",
       "    </tr>\n",
       "    <tr>\n",
       "      <th>1233</th>\n",
       "      <td>1234</td>\n",
       "      <td>130</td>\n",
       "      <td>291.0</td>\n",
       "      <td>0</td>\n",
       "      <td>30.0</td>\n",
       "      <td>65.0</td>\n",
       "      <td>150.0</td>\n",
       "      <td>1.0</td>\n",
       "    </tr>\n",
       "    <tr>\n",
       "      <th>1234</th>\n",
       "      <td>1235</td>\n",
       "      <td>125</td>\n",
       "      <td>281.0</td>\n",
       "      <td>1</td>\n",
       "      <td>21.0</td>\n",
       "      <td>65.0</td>\n",
       "      <td>110.0</td>\n",
       "      <td>0.0</td>\n",
       "    </tr>\n",
       "    <tr>\n",
       "      <th>1235</th>\n",
       "      <td>1236</td>\n",
       "      <td>117</td>\n",
       "      <td>297.0</td>\n",
       "      <td>0</td>\n",
       "      <td>38.0</td>\n",
       "      <td>65.0</td>\n",
       "      <td>129.0</td>\n",
       "      <td>0.0</td>\n",
       "    </tr>\n",
       "  </tbody>\n",
       "</table>\n",
       "</div>"
      ],
      "text/plain": [
       "      case  bwt  gestation  parity   age  height  weight  smoke\n",
       "1226  1227  109      244.0       1  21.0    63.0   102.0    1.0\n",
       "1227  1228  103      278.0       0  30.0    60.0    87.0    1.0\n",
       "1228  1229  118      276.0       0  34.0    64.0   116.0    0.0\n",
       "1229  1230  127      290.0       0  27.0    65.0   121.0    0.0\n",
       "1230  1231  132      270.0       0  27.0    65.0   126.0    0.0\n",
       "1231  1232  113      275.0       1  27.0    60.0   100.0    0.0\n",
       "1232  1233  128      265.0       0  24.0    67.0   120.0    0.0\n",
       "1233  1234  130      291.0       0  30.0    65.0   150.0    1.0\n",
       "1234  1235  125      281.0       1  21.0    65.0   110.0    0.0\n",
       "1235  1236  117      297.0       0  38.0    65.0   129.0    0.0"
      ]
     },
     "execution_count": 6,
     "metadata": {},
     "output_type": "execute_result"
    }
   ],
   "source": [
    "# use the \"tail\" function to view/display the last 10 rows of the \"df\" dataset...\n",
    "\n",
    "df.tail(10)"
   ]
  },
  {
   "cell_type": "code",
   "execution_count": 7,
   "metadata": {},
   "outputs": [],
   "source": [
    "# use the \"drop\" function to remove/drop the \"case\" column from the \"df\" dataset...\n",
    "\n",
    "\n",
    "df = df.drop(columns = \"case\")"
   ]
  },
  {
   "cell_type": "markdown",
   "metadata": {},
   "source": [
    "### 5. Is there any missing data in the dataset? Use whichever code you like to check."
   ]
  },
  {
   "cell_type": "code",
   "execution_count": 8,
   "metadata": {},
   "outputs": [
    {
     "name": "stdout",
     "output_type": "stream",
     "text": [
      "<class 'pandas.core.frame.DataFrame'>\n",
      "RangeIndex: 1236 entries, 0 to 1235\n",
      "Data columns (total 7 columns):\n",
      " #   Column     Non-Null Count  Dtype  \n",
      "---  ------     --------------  -----  \n",
      " 0   bwt        1236 non-null   int64  \n",
      " 1   gestation  1223 non-null   float64\n",
      " 2   parity     1236 non-null   int64  \n",
      " 3   age        1234 non-null   float64\n",
      " 4   height     1214 non-null   float64\n",
      " 5   weight     1200 non-null   float64\n",
      " 6   smoke      1226 non-null   float64\n",
      "dtypes: float64(5), int64(2)\n",
      "memory usage: 67.7 KB\n"
     ]
    }
   ],
   "source": [
    "# use the \"info\" function to see if there is any missing data in the \"df\" dataset...\n",
    "\n",
    "df.info()"
   ]
  },
  {
   "cell_type": "code",
   "execution_count": 9,
   "metadata": {},
   "outputs": [
    {
     "data": {
      "text/plain": [
       "bwt           0\n",
       "gestation    13\n",
       "parity        0\n",
       "age           2\n",
       "height       22\n",
       "weight       36\n",
       "smoke        10\n",
       "dtype: int64"
      ]
     },
     "execution_count": 9,
     "metadata": {},
     "output_type": "execute_result"
    }
   ],
   "source": [
    "# use the \"isnull\" & \"sum\" functions to see if there is any missing data in the \"df\" dataset...\n",
    "\n",
    "df.isnull().sum()"
   ]
  },
  {
   "cell_type": "code",
   "execution_count": null,
   "metadata": {},
   "outputs": [],
   "source": [
    "# there is missing data in the \"df\" dataset..."
   ]
  },
  {
   "cell_type": "markdown",
   "metadata": {},
   "source": [
    "### 6. The amount of missing data is small considering the size of our dataset. Drop all rows in the dataset that have missing data. Create a copy of your dataset without missing data. "
   ]
  },
  {
   "cell_type": "code",
   "execution_count": 10,
   "metadata": {},
   "outputs": [],
   "source": [
    "# create a copy of the \"df\" dataset without missing data...\n",
    "# use the \"dropna\" function to drop the rows with missing data...\n",
    "# the name of the dataset without missing data will be named \"df1\"...\n",
    "\n",
    "df1 = df.dropna()"
   ]
  },
  {
   "cell_type": "code",
   "execution_count": 11,
   "metadata": {},
   "outputs": [
    {
     "name": "stdout",
     "output_type": "stream",
     "text": [
      "<class 'pandas.core.frame.DataFrame'>\n",
      "Int64Index: 1174 entries, 0 to 1235\n",
      "Data columns (total 7 columns):\n",
      " #   Column     Non-Null Count  Dtype  \n",
      "---  ------     --------------  -----  \n",
      " 0   bwt        1174 non-null   int64  \n",
      " 1   gestation  1174 non-null   float64\n",
      " 2   parity     1174 non-null   int64  \n",
      " 3   age        1174 non-null   float64\n",
      " 4   height     1174 non-null   float64\n",
      " 5   weight     1174 non-null   float64\n",
      " 6   smoke      1174 non-null   float64\n",
      "dtypes: float64(5), int64(2)\n",
      "memory usage: 73.4 KB\n"
     ]
    }
   ],
   "source": [
    "# use the \"info\" function to verify that there is no missing data in the \"df1\" dataset...\n",
    "\n",
    "df1.info()"
   ]
  },
  {
   "cell_type": "code",
   "execution_count": 12,
   "metadata": {},
   "outputs": [
    {
     "data": {
      "text/plain": [
       "bwt          0\n",
       "gestation    0\n",
       "parity       0\n",
       "age          0\n",
       "height       0\n",
       "weight       0\n",
       "smoke        0\n",
       "dtype: int64"
      ]
     },
     "execution_count": 12,
     "metadata": {},
     "output_type": "execute_result"
    }
   ],
   "source": [
    "# use the \"isnull\" & \"sum\" functions to verify that there is no missing data in the \"df1\" dataset...\n",
    "\n",
    "df1.isnull().sum()"
   ]
  },
  {
   "cell_type": "markdown",
   "metadata": {},
   "source": [
    "### 7. Are there any duplicate rows in the dataset? Check, if there are, drop them. "
   ]
  },
  {
   "cell_type": "code",
   "execution_count": 13,
   "metadata": {},
   "outputs": [
    {
     "data": {
      "text/html": [
       "<div>\n",
       "<style scoped>\n",
       "    .dataframe tbody tr th:only-of-type {\n",
       "        vertical-align: middle;\n",
       "    }\n",
       "\n",
       "    .dataframe tbody tr th {\n",
       "        vertical-align: top;\n",
       "    }\n",
       "\n",
       "    .dataframe thead th {\n",
       "        text-align: right;\n",
       "    }\n",
       "</style>\n",
       "<table border=\"1\" class=\"dataframe\">\n",
       "  <thead>\n",
       "    <tr style=\"text-align: right;\">\n",
       "      <th></th>\n",
       "      <th>bwt</th>\n",
       "      <th>gestation</th>\n",
       "      <th>parity</th>\n",
       "      <th>age</th>\n",
       "      <th>height</th>\n",
       "      <th>weight</th>\n",
       "      <th>smoke</th>\n",
       "    </tr>\n",
       "  </thead>\n",
       "  <tbody>\n",
       "  </tbody>\n",
       "</table>\n",
       "</div>"
      ],
      "text/plain": [
       "Empty DataFrame\n",
       "Columns: [bwt, gestation, parity, age, height, weight, smoke]\n",
       "Index: []"
      ]
     },
     "execution_count": 13,
     "metadata": {},
     "output_type": "execute_result"
    }
   ],
   "source": [
    "# Locate duplicates rows within the \"df1\" dataset...\n",
    "# use the \"duplicated\" function to find any duplicate rows in the \"df1\" dataset...\n",
    "# any duplicate rows will be copied into a variable named \"dupes\"...\n",
    "# use the \"loc\" function to display any duplicate rows...\n",
    "\n",
    "dupes = df1.duplicated()\n",
    "df1.loc[dupes]"
   ]
  },
  {
   "cell_type": "code",
   "execution_count": null,
   "metadata": {},
   "outputs": [],
   "source": [
    "# there are no duplicate rows..."
   ]
  },
  {
   "cell_type": "markdown",
   "metadata": {},
   "source": [
    "### 8. Check each of your numeric columns for outliers - pick one method and use it for all the columns. "
   ]
  },
  {
   "cell_type": "code",
   "execution_count": 14,
   "metadata": {},
   "outputs": [
    {
     "data": {
      "text/html": [
       "<div>\n",
       "<style scoped>\n",
       "    .dataframe tbody tr th:only-of-type {\n",
       "        vertical-align: middle;\n",
       "    }\n",
       "\n",
       "    .dataframe tbody tr th {\n",
       "        vertical-align: top;\n",
       "    }\n",
       "\n",
       "    .dataframe thead th {\n",
       "        text-align: right;\n",
       "    }\n",
       "</style>\n",
       "<table border=\"1\" class=\"dataframe\">\n",
       "  <thead>\n",
       "    <tr style=\"text-align: right;\">\n",
       "      <th></th>\n",
       "      <th>bwt</th>\n",
       "      <th>gestation</th>\n",
       "      <th>parity</th>\n",
       "      <th>age</th>\n",
       "      <th>height</th>\n",
       "      <th>weight</th>\n",
       "      <th>smoke</th>\n",
       "    </tr>\n",
       "  </thead>\n",
       "  <tbody>\n",
       "    <tr>\n",
       "      <th>0</th>\n",
       "      <td>120</td>\n",
       "      <td>284.0</td>\n",
       "      <td>0</td>\n",
       "      <td>27.0</td>\n",
       "      <td>62.0</td>\n",
       "      <td>100.0</td>\n",
       "      <td>0.0</td>\n",
       "    </tr>\n",
       "  </tbody>\n",
       "</table>\n",
       "</div>"
      ],
      "text/plain": [
       "   bwt  gestation  parity   age  height  weight  smoke\n",
       "0  120      284.0       0  27.0    62.0   100.0    0.0"
      ]
     },
     "execution_count": 14,
     "metadata": {},
     "output_type": "execute_result"
    }
   ],
   "source": [
    "# use the \"head\" function the view/display the column names in the \"df1\" dataset...\n",
    "\n",
    "df1.head(1)"
   ]
  },
  {
   "cell_type": "code",
   "execution_count": null,
   "metadata": {},
   "outputs": [],
   "source": [
    "# I will use the Interquartile Range (IQR) to detect outliers in the numberic columns..."
   ]
  },
  {
   "cell_type": "code",
   "execution_count": 15,
   "metadata": {},
   "outputs": [
    {
     "data": {
      "text/plain": [
       "(1174, 7)"
      ]
     },
     "execution_count": 15,
     "metadata": {},
     "output_type": "execute_result"
    }
   ],
   "source": [
    "# bwt (birth weight)\n",
    "# use the \"copy\" function to copy the \"df1\" dataset into a variable named \"df1_bwt\"...\n",
    "# use the \"shape\" function to show the number of rows and number of columns in the \"df1_bwt\" dataset...\n",
    "\n",
    "df1_bwt = df1.copy()\n",
    "df1_bwt.shape"
   ]
  },
  {
   "cell_type": "code",
   "execution_count": 16,
   "metadata": {},
   "outputs": [],
   "source": [
    "# Calculate quartiles/quantiles for the values in the \"bwt\" column\n",
    "\n",
    "q1 = df1_bwt[\"bwt\"].quantile(.25)\n",
    "q3 = df1_bwt[\"bwt\"].quantile(.75)\n",
    "\n",
    "\n",
    "# calculate the Interquartile Range (IQR)...\n",
    "iqr = q3 - q1\n",
    "\n",
    "\n",
    "# determine/calculate the outlier fences...\n",
    "top = q3 + (iqr * 1.5)\n",
    "bottom = q1 - (iqr * 1.5)"
   ]
  },
  {
   "cell_type": "code",
   "execution_count": 17,
   "metadata": {},
   "outputs": [
    {
     "name": "stdout",
     "output_type": "stream",
     "text": [
      "q1= 108.0 q3= 131.0 iqr= 23.0 bottom= 73.5 top= 165.5\n"
     ]
    }
   ],
   "source": [
    "# display the Interquartile Range (IQR), the top & bottom outlier fences for the values in the \"bwt\" column...\n",
    "\n",
    "print(\"q1=\", q1, \"q3=\", q3, \"iqr=\", iqr, \"bottom=\", bottom, \"top=\", top)"
   ]
  },
  {
   "cell_type": "code",
   "execution_count": 18,
   "metadata": {},
   "outputs": [
    {
     "name": "stdout",
     "output_type": "stream",
     "text": [
      "Int64Index([ 239,  309,  361,  462,  500,  529,  556,  594,  632,  709,  738,\n",
      "             747,  829,  904,  912,  978, 1021, 1035, 1063, 1065, 1099, 1139,\n",
      "            1148, 1169],\n",
      "           dtype='int64')\n"
     ]
    }
   ],
   "source": [
    "# Determine the index locations for rows that fall outside of outlier fences (top & bottom) for the \"btw\" values...\n",
    "\n",
    "iqr_outliers_bwt = df1_bwt[(df1_bwt[\"bwt\"] > top) | (df1_bwt[\"bwt\"] < bottom)].index\n",
    "\n",
    "# display the index(s) that contain values in the \"bwt\" column that are outliers...\n",
    "\n",
    "print(iqr_outliers_bwt)\n"
   ]
  },
  {
   "cell_type": "code",
   "execution_count": 20,
   "metadata": {},
   "outputs": [
    {
     "name": "stdout",
     "output_type": "stream",
     "text": [
      "(1150, 7)\n"
     ]
    }
   ],
   "source": [
    "# drop the rows that contain the outliers in the \"df1_bwt\" dataset with the associated index values...\n",
    "df1_bwt = df1_bwt.drop(iqr_outliers_bwt)\n",
    "\n",
    "\n",
    "# check the shape of the updated \"df1_bwt\" dataframe...\n",
    "print(df1_bwt.shape)"
   ]
  },
  {
   "cell_type": "code",
   "execution_count": null,
   "metadata": {},
   "outputs": [],
   "source": [
    "# the original \"df1_bwt\" dataset contained 1,174 rows...\n",
    "# with the removal of the outliers, the \"df1_btw\" dataset now contains 1,150 rows...\n",
    "# 24 rows were removed..."
   ]
  },
  {
   "cell_type": "code",
   "execution_count": 23,
   "metadata": {},
   "outputs": [
    {
     "data": {
      "text/plain": [
       "(1174, 7)"
      ]
     },
     "execution_count": 23,
     "metadata": {},
     "output_type": "execute_result"
    }
   ],
   "source": [
    "# gestation \n",
    "# use the \"copy\" function to copy the \"df1\" dataset into a variable named \"df1_gest\"...\n",
    "# use the \"shape\" function to show the number of rows and number of columns in the \"df1_gest\" dataset...\n",
    "\n",
    "df1_gest = df1.copy()\n",
    "df1_gest.shape"
   ]
  },
  {
   "cell_type": "code",
   "execution_count": 24,
   "metadata": {},
   "outputs": [],
   "source": [
    "# Calculate quartiles/quantiles for the values in the \"gestation\" column\n",
    "\n",
    "q1 = df1_gest[\"gestation\"].quantile(.25)\n",
    "q3 = df1_gest[\"gestation\"].quantile(.75)\n",
    "\n",
    "\n",
    "# calculate the Interquartile Range (IQR)...\n",
    "iqr = q3 - q1\n",
    "\n",
    "\n",
    "# determine/calculate the outlier fences...\n",
    "top = q3 + (iqr * 1.5)\n",
    "bottom = q1 - (iqr * 1.5)"
   ]
  },
  {
   "cell_type": "code",
   "execution_count": 25,
   "metadata": {},
   "outputs": [
    {
     "name": "stdout",
     "output_type": "stream",
     "text": [
      "q1= 272.0 q3= 288.0 iqr= 16.0 bottom= 248.0 top= 312.0\n"
     ]
    }
   ],
   "source": [
    "# display the Interquartile Range (IQR), the top & bottom outlier fences for the values in the \"gestation\" column...\n",
    "\n",
    "print(\"q1=\", q1, \"q3=\", q3, \"iqr=\", iqr, \"bottom=\", bottom, \"top=\", top)"
   ]
  },
  {
   "cell_type": "code",
   "execution_count": 26,
   "metadata": {},
   "outputs": [
    {
     "name": "stdout",
     "output_type": "stream",
     "text": [
      "Int64Index([   6,    7,   10,   59,   63,   66,  119,  129,  155,  188,  192,\n",
      "             198,  210,  215,  217,  234,  240,  253,  260,  279,  345,  361,\n",
      "             373,  394,  440,  460,  462,  484,  500,  511,  523,  630,  685,\n",
      "             699,  710,  726,  746,  761,  769,  778,  784,  828,  829,  830,\n",
      "             833,  869,  912,  927,  952,  969,  978, 1002, 1020, 1026, 1035,\n",
      "            1065, 1074, 1134, 1139, 1140, 1142, 1146, 1152, 1172, 1178, 1199,\n",
      "            1206, 1207, 1217, 1219, 1226],\n",
      "           dtype='int64')\n"
     ]
    }
   ],
   "source": [
    "# Determine the index locations for rows that fall outside of outlier fences (top & bottom) for the \"gestation\"\n",
    "# values...\n",
    "\n",
    "iqr_outliers_gest = df1_gest[(df1_gest[\"gestation\"] > top) | (df1_gest[\"gestation\"] < bottom)].index\n",
    "\n",
    "# display the index(s) that contain values in the \"gestation\" column that are outliers...\n",
    "\n",
    "print(iqr_outliers_gest)\n"
   ]
  },
  {
   "cell_type": "code",
   "execution_count": 27,
   "metadata": {},
   "outputs": [
    {
     "name": "stdout",
     "output_type": "stream",
     "text": [
      "(1103, 7)\n"
     ]
    }
   ],
   "source": [
    "# drop the rows that contain the outliers in the \"df1_bwt\" dataset with the associated index values...\n",
    "df1_gest = df1_gest.drop(iqr_outliers_gest)\n",
    "\n",
    "\n",
    "# check the shape of the updated \"df1_bwt\" dataframe...\n",
    "print(df1_gest.shape)"
   ]
  },
  {
   "cell_type": "code",
   "execution_count": null,
   "metadata": {},
   "outputs": [],
   "source": [
    "# the original \"df1_gest\" dataset contained 1,174 rows...\n",
    "# with the removal of the outliers, the \"df1_gest\" dataset now contains 1,103 rows...\n",
    "# 71 rows were removed..."
   ]
  },
  {
   "cell_type": "code",
   "execution_count": 28,
   "metadata": {},
   "outputs": [
    {
     "data": {
      "text/plain": [
       "(1174, 7)"
      ]
     },
     "execution_count": 28,
     "metadata": {},
     "output_type": "execute_result"
    }
   ],
   "source": [
    "# age\n",
    "# use the \"copy\" function to copy the \"df1\" dataset into a variable named \"df1_age\"...\n",
    "# use the \"shape\" function to show the number of rows and number of columns in the \"df1_age\" dataset...\n",
    "\n",
    "df1_age = df1.copy()\n",
    "df1_age.shape"
   ]
  },
  {
   "cell_type": "code",
   "execution_count": 29,
   "metadata": {},
   "outputs": [],
   "source": [
    "# Calculate quartiles/quantiles for the values in the \"age\" column\n",
    "\n",
    "q1 = df1_age[\"age\"].quantile(.25)\n",
    "q3 = df1_age[\"age\"].quantile(.75)\n",
    "\n",
    "\n",
    "# calculate the Interquartile Range (IQR)...\n",
    "iqr = q3 - q1\n",
    "\n",
    "\n",
    "# determine/calculate the outlier fences...\n",
    "top = q3 + (iqr * 1.5)\n",
    "bottom = q1 - (iqr * 1.5)"
   ]
  },
  {
   "cell_type": "code",
   "execution_count": 30,
   "metadata": {},
   "outputs": [
    {
     "name": "stdout",
     "output_type": "stream",
     "text": [
      "q1= 23.0 q3= 31.0 iqr= 8.0 bottom= 11.0 top= 43.0\n"
     ]
    }
   ],
   "source": [
    "# display the Interquartile Range (IQR), the top & bottom outlier fences for the values in the \"age\" column...\n",
    "\n",
    "print(\"q1=\", q1, \"q3=\", q3, \"iqr=\", iqr, \"bottom=\", bottom, \"top=\", top)"
   ]
  },
  {
   "cell_type": "code",
   "execution_count": 31,
   "metadata": {},
   "outputs": [
    {
     "name": "stdout",
     "output_type": "stream",
     "text": [
      "Int64Index([633, 1070], dtype='int64')\n"
     ]
    }
   ],
   "source": [
    "# Determine the index locations for rows that fall outside of outlier fences (top & bottom) for the \"age\"\n",
    "# values...\n",
    "\n",
    "iqr_outliers_age = df1_age[(df1_age[\"age\"] > top) | (df1_age[\"age\"] < bottom)].index\n",
    "\n",
    "# display the index(s) that contain values in the \"age\" column that are outliers...\n",
    "\n",
    "print(iqr_outliers_age)\n"
   ]
  },
  {
   "cell_type": "code",
   "execution_count": 32,
   "metadata": {},
   "outputs": [
    {
     "name": "stdout",
     "output_type": "stream",
     "text": [
      "(1172, 7)\n"
     ]
    }
   ],
   "source": [
    "# drop the rows that contain the outliers in the \"df1_age\" dataset with the associated index values...\n",
    "df1_age = df1_age.drop(iqr_outliers_age)\n",
    "\n",
    "\n",
    "# check the shape of the updated \"df1_age\" dataframe...\n",
    "print(df1_age.shape)"
   ]
  },
  {
   "cell_type": "code",
   "execution_count": null,
   "metadata": {},
   "outputs": [],
   "source": [
    "# the original \"df1_age\" dataset contained 1,174 rows...\n",
    "# with the removal of the outliers, the \"df1_age\" dataset now contains 1,172 rows...\n",
    "# 2 rows were removed..."
   ]
  },
  {
   "cell_type": "code",
   "execution_count": 33,
   "metadata": {},
   "outputs": [
    {
     "data": {
      "text/plain": [
       "(1174, 7)"
      ]
     },
     "execution_count": 33,
     "metadata": {},
     "output_type": "execute_result"
    }
   ],
   "source": [
    "# height\n",
    "# use the \"copy\" function to copy the \"df1\" dataset into a variable named \"df1_height\"...\n",
    "# use the \"shape\" function to show the number of rows and number of columns in the \"df1_height\" dataset...\n",
    "\n",
    "df1_height = df1.copy()\n",
    "df1_height.shape"
   ]
  },
  {
   "cell_type": "code",
   "execution_count": 34,
   "metadata": {},
   "outputs": [],
   "source": [
    "# Calculate quartiles/quantiles for the values in the \"height\" column\n",
    "\n",
    "q1 = df1_height[\"height\"].quantile(.25)\n",
    "q3 = df1_height[\"height\"].quantile(.75)\n",
    "\n",
    "\n",
    "# calculate the Interquartile Range (IQR)...\n",
    "iqr = q3 - q1\n",
    "\n",
    "\n",
    "# determine/calculate the outlier fences...\n",
    "top = q3 + (iqr * 1.5)\n",
    "bottom = q1 - (iqr * 1.5)"
   ]
  },
  {
   "cell_type": "code",
   "execution_count": 35,
   "metadata": {},
   "outputs": [
    {
     "name": "stdout",
     "output_type": "stream",
     "text": [
      "q1= 62.0 q3= 66.0 iqr= 4.0 bottom= 56.0 top= 72.0\n"
     ]
    }
   ],
   "source": [
    "# display the Interquartile Range (IQR), the top & bottom outlier fences for the values in the \"height\" column...\n",
    "\n",
    "print(\"q1=\", q1, \"q3=\", q3, \"iqr=\", iqr, \"bottom=\", bottom, \"top=\", top)"
   ]
  },
  {
   "cell_type": "code",
   "execution_count": 36,
   "metadata": {},
   "outputs": [
    {
     "name": "stdout",
     "output_type": "stream",
     "text": [
      "Int64Index([434, 1208], dtype='int64')\n"
     ]
    }
   ],
   "source": [
    "# Determine the index locations for rows that fall outside of outlier fences (top & bottom) for the \"height\"\n",
    "# values...\n",
    "\n",
    "iqr_outliers_height = df1_height[(df1_height[\"height\"] > top) | (df1_height[\"height\"] < bottom)].index\n",
    "\n",
    "# display the index(s) that contain values in the \"height\" column that are outliers...\n",
    "\n",
    "print(iqr_outliers_height)\n"
   ]
  },
  {
   "cell_type": "code",
   "execution_count": 37,
   "metadata": {},
   "outputs": [
    {
     "name": "stdout",
     "output_type": "stream",
     "text": [
      "(1172, 7)\n"
     ]
    }
   ],
   "source": [
    "# drop the rows that contain the outliers in the \"df1_height\" dataset with the associated index values...\n",
    "df1_height = df1_height.drop(iqr_outliers_height)\n",
    "\n",
    "\n",
    "# check the shape of the updated \"df1_height\" dataframe...\n",
    "print(df1_height.shape)"
   ]
  },
  {
   "cell_type": "code",
   "execution_count": null,
   "metadata": {},
   "outputs": [],
   "source": [
    "# the original \"df1_height\" dataset contained 1,174 rows...\n",
    "# with the removal of the outliers, the \"df1_height\" dataset now contains 1,172 rows...\n",
    "# 2 rows were removed..."
   ]
  },
  {
   "cell_type": "code",
   "execution_count": 38,
   "metadata": {},
   "outputs": [
    {
     "data": {
      "text/plain": [
       "(1174, 7)"
      ]
     },
     "execution_count": 38,
     "metadata": {},
     "output_type": "execute_result"
    }
   ],
   "source": [
    "# weight\n",
    "# use the \"copy\" function to copy the \"df1\" dataset into a variable named \"df1_weight\"...\n",
    "# use the \"shape\" function to show the number of rows and number of columns in the \"df1_weight\" dataset...\n",
    "\n",
    "df1_weight = df1.copy()\n",
    "df1_weight.shape"
   ]
  },
  {
   "cell_type": "code",
   "execution_count": 39,
   "metadata": {},
   "outputs": [],
   "source": [
    "# Calculate quartiles/quantiles for the values in the \"weight\" column\n",
    "\n",
    "q1 = df1_weight[\"weight\"].quantile(.25)\n",
    "q3 = df1_weight[\"weight\"].quantile(.75)\n",
    "\n",
    "\n",
    "# calculate the Interquartile Range (IQR)...\n",
    "iqr = q3 - q1\n",
    "\n",
    "\n",
    "# determine/calculate the outlier fences...\n",
    "top = q3 + (iqr * 1.5)\n",
    "bottom = q1 - (iqr * 1.5)"
   ]
  },
  {
   "cell_type": "code",
   "execution_count": 40,
   "metadata": {},
   "outputs": [
    {
     "name": "stdout",
     "output_type": "stream",
     "text": [
      "q1= 114.25 q3= 139.0 iqr= 24.75 bottom= 77.125 top= 176.125\n"
     ]
    }
   ],
   "source": [
    "# display the Interquartile Range (IQR), the top & bottom outlier fences for the values in the \"weight\" column...\n",
    "\n",
    "print(\"q1=\", q1, \"q3=\", q3, \"iqr=\", iqr, \"bottom=\", bottom, \"top=\", top)"
   ]
  },
  {
   "cell_type": "code",
   "execution_count": 41,
   "metadata": {},
   "outputs": [
    {
     "name": "stdout",
     "output_type": "stream",
     "text": [
      "Int64Index([   6,   23,   41,   88,  117,  149,  162,  181,  183,  222,  240,\n",
      "             287,  411,  426,  512,  522,  528,  563,  608,  622,  632,  723,\n",
      "             733,  747,  849,  858,  859,  865,  888,  924,  935, 1008, 1021,\n",
      "            1148, 1154, 1167, 1219],\n",
      "           dtype='int64')\n"
     ]
    }
   ],
   "source": [
    "# Determine the index locations for rows that fall outside of outlier fences (top & bottom) for the \"weight\"\n",
    "# values...\n",
    "\n",
    "iqr_outliers_weight = df1_weight[(df1_weight[\"weight\"] > top) | (df1_weight[\"weight\"] < bottom)].index\n",
    "\n",
    "# display the index(s) that contain values in the \"weight\" column that are outliers...\n",
    "\n",
    "print(iqr_outliers_weight)"
   ]
  },
  {
   "cell_type": "code",
   "execution_count": 42,
   "metadata": {},
   "outputs": [
    {
     "name": "stdout",
     "output_type": "stream",
     "text": [
      "(1137, 7)\n"
     ]
    }
   ],
   "source": [
    "# drop the rows that contain the outliers in the \"df1_weight\" dataset with the associated index values...\n",
    "df1_weight = df1_weight.drop(iqr_outliers_weight)\n",
    "\n",
    "\n",
    "# check the shape of the updated \"df1_weight\" dataframe...\n",
    "print(df1_weight.shape)"
   ]
  },
  {
   "cell_type": "code",
   "execution_count": null,
   "metadata": {},
   "outputs": [],
   "source": [
    "# the original \"df1_height\" dataset contained 1,174 rows...\n",
    "# with the removal of the outliers, the \"df1_height\" dataset now contains 1,137 rows...\n",
    "# 37 rows were removed..."
   ]
  },
  {
   "cell_type": "code",
   "execution_count": null,
   "metadata": {},
   "outputs": [],
   "source": []
  },
  {
   "cell_type": "markdown",
   "metadata": {},
   "source": [
    "### 9. Print the descriptive statistics for each numeric column. What is the average age of the mothers? What is the average gestation period?"
   ]
  },
  {
   "cell_type": "code",
   "execution_count": 18,
   "metadata": {},
   "outputs": [
    {
     "data": {
      "text/html": [
       "<div>\n",
       "<style scoped>\n",
       "    .dataframe tbody tr th:only-of-type {\n",
       "        vertical-align: middle;\n",
       "    }\n",
       "\n",
       "    .dataframe tbody tr th {\n",
       "        vertical-align: top;\n",
       "    }\n",
       "\n",
       "    .dataframe thead th {\n",
       "        text-align: right;\n",
       "    }\n",
       "</style>\n",
       "<table border=\"1\" class=\"dataframe\">\n",
       "  <thead>\n",
       "    <tr style=\"text-align: right;\">\n",
       "      <th></th>\n",
       "      <th>bwt</th>\n",
       "      <th>gestation</th>\n",
       "      <th>parity</th>\n",
       "      <th>age</th>\n",
       "      <th>height</th>\n",
       "      <th>weight</th>\n",
       "      <th>smoke</th>\n",
       "    </tr>\n",
       "  </thead>\n",
       "  <tbody>\n",
       "    <tr>\n",
       "      <th>count</th>\n",
       "      <td>1174.000000</td>\n",
       "      <td>1174.000000</td>\n",
       "      <td>1174.000000</td>\n",
       "      <td>1174.000000</td>\n",
       "      <td>1174.000000</td>\n",
       "      <td>1174.000000</td>\n",
       "      <td>1174.000000</td>\n",
       "    </tr>\n",
       "    <tr>\n",
       "      <th>mean</th>\n",
       "      <td>119.462521</td>\n",
       "      <td>279.101363</td>\n",
       "      <td>0.262351</td>\n",
       "      <td>27.228279</td>\n",
       "      <td>64.049404</td>\n",
       "      <td>128.478705</td>\n",
       "      <td>0.390971</td>\n",
       "    </tr>\n",
       "    <tr>\n",
       "      <th>std</th>\n",
       "      <td>18.328671</td>\n",
       "      <td>16.010305</td>\n",
       "      <td>0.440100</td>\n",
       "      <td>5.817839</td>\n",
       "      <td>2.526102</td>\n",
       "      <td>20.734282</td>\n",
       "      <td>0.488176</td>\n",
       "    </tr>\n",
       "    <tr>\n",
       "      <th>min</th>\n",
       "      <td>55.000000</td>\n",
       "      <td>148.000000</td>\n",
       "      <td>0.000000</td>\n",
       "      <td>15.000000</td>\n",
       "      <td>53.000000</td>\n",
       "      <td>87.000000</td>\n",
       "      <td>0.000000</td>\n",
       "    </tr>\n",
       "    <tr>\n",
       "      <th>25%</th>\n",
       "      <td>108.000000</td>\n",
       "      <td>272.000000</td>\n",
       "      <td>0.000000</td>\n",
       "      <td>23.000000</td>\n",
       "      <td>62.000000</td>\n",
       "      <td>114.250000</td>\n",
       "      <td>0.000000</td>\n",
       "    </tr>\n",
       "    <tr>\n",
       "      <th>50%</th>\n",
       "      <td>120.000000</td>\n",
       "      <td>280.000000</td>\n",
       "      <td>0.000000</td>\n",
       "      <td>26.000000</td>\n",
       "      <td>64.000000</td>\n",
       "      <td>125.000000</td>\n",
       "      <td>0.000000</td>\n",
       "    </tr>\n",
       "    <tr>\n",
       "      <th>75%</th>\n",
       "      <td>131.000000</td>\n",
       "      <td>288.000000</td>\n",
       "      <td>1.000000</td>\n",
       "      <td>31.000000</td>\n",
       "      <td>66.000000</td>\n",
       "      <td>139.000000</td>\n",
       "      <td>1.000000</td>\n",
       "    </tr>\n",
       "    <tr>\n",
       "      <th>max</th>\n",
       "      <td>176.000000</td>\n",
       "      <td>353.000000</td>\n",
       "      <td>1.000000</td>\n",
       "      <td>45.000000</td>\n",
       "      <td>72.000000</td>\n",
       "      <td>250.000000</td>\n",
       "      <td>1.000000</td>\n",
       "    </tr>\n",
       "  </tbody>\n",
       "</table>\n",
       "</div>"
      ],
      "text/plain": [
       "               bwt    gestation       parity          age       height  \\\n",
       "count  1174.000000  1174.000000  1174.000000  1174.000000  1174.000000   \n",
       "mean    119.462521   279.101363     0.262351    27.228279    64.049404   \n",
       "std      18.328671    16.010305     0.440100     5.817839     2.526102   \n",
       "min      55.000000   148.000000     0.000000    15.000000    53.000000   \n",
       "25%     108.000000   272.000000     0.000000    23.000000    62.000000   \n",
       "50%     120.000000   280.000000     0.000000    26.000000    64.000000   \n",
       "75%     131.000000   288.000000     1.000000    31.000000    66.000000   \n",
       "max     176.000000   353.000000     1.000000    45.000000    72.000000   \n",
       "\n",
       "            weight        smoke  \n",
       "count  1174.000000  1174.000000  \n",
       "mean    128.478705     0.390971  \n",
       "std      20.734282     0.488176  \n",
       "min      87.000000     0.000000  \n",
       "25%     114.250000     0.000000  \n",
       "50%     125.000000     0.000000  \n",
       "75%     139.000000     1.000000  \n",
       "max     250.000000     1.000000  "
      ]
     },
     "execution_count": 18,
     "metadata": {},
     "output_type": "execute_result"
    }
   ],
   "source": [
    "# use the \"describe\" function to view/display the descriptive statistics for each numeric column...\n",
    "\n",
    "df1.describe()"
   ]
  },
  {
   "cell_type": "code",
   "execution_count": null,
   "metadata": {},
   "outputs": [],
   "source": [
    "# the average (mean) age of the mothers is 27.228278 years (27 years, 2.739336 months)"
   ]
  },
  {
   "cell_type": "code",
   "execution_count": null,
   "metadata": {},
   "outputs": [],
   "source": [
    "# the average (mean) gestation period is 279.101363 days (9.175935222 months) (9 months, 5.27805666 days)"
   ]
  },
  {
   "cell_type": "markdown",
   "metadata": {},
   "source": [
    "### 10. Let's model birthweight based on the characteristics of the mother. We want to distinguish between the numeric and categorical variables. Replace the values 0/1 in the parity and smoke column with meaningful labels (i.e. smokes, doesn't smoke)."
   ]
  },
  {
   "cell_type": "code",
   "execution_count": null,
   "metadata": {},
   "outputs": [],
   "source": [
    "# Replace multiple values\n",
    "#d14 = df.copy()\n",
    "#d14['survived'].replace([1,0], ['survived sinking', 'did not survive'], inplace=True)\n",
    "#d14.head(3)\n",
    "\n",
    "# parity\n",
    "# 0 - first pregnacy\n",
    "# 1 - not first pregnacy\n",
    "\n",
    "# smoke\n",
    "# 0 - non-smoker\n",
    "# 1 - smoker"
   ]
  },
  {
   "cell_type": "code",
   "execution_count": 44,
   "metadata": {},
   "outputs": [
    {
     "data": {
      "text/plain": [
       "0    921\n",
       "1    315\n",
       "Name: parity, dtype: int64"
      ]
     },
     "execution_count": 44,
     "metadata": {},
     "output_type": "execute_result"
    }
   ],
   "source": [
    "# use the \"value_counts\" function to check on the actual values in the \"parity\" column...\n",
    "\n",
    "df['parity'].value_counts()"
   ]
  },
  {
   "cell_type": "code",
   "execution_count": 45,
   "metadata": {},
   "outputs": [
    {
     "data": {
      "text/plain": [
       "0.0    742\n",
       "1.0    484\n",
       "Name: smoke, dtype: int64"
      ]
     },
     "execution_count": 45,
     "metadata": {},
     "output_type": "execute_result"
    }
   ],
   "source": [
    "# use the \"value_counts\" function to check on the actual values in the \"smoke\" column...\n",
    "\n",
    "df['smoke'].value_counts()"
   ]
  },
  {
   "cell_type": "code",
   "execution_count": 46,
   "metadata": {},
   "outputs": [
    {
     "data": {
      "text/html": [
       "<div>\n",
       "<style scoped>\n",
       "    .dataframe tbody tr th:only-of-type {\n",
       "        vertical-align: middle;\n",
       "    }\n",
       "\n",
       "    .dataframe tbody tr th {\n",
       "        vertical-align: top;\n",
       "    }\n",
       "\n",
       "    .dataframe thead th {\n",
       "        text-align: right;\n",
       "    }\n",
       "</style>\n",
       "<table border=\"1\" class=\"dataframe\">\n",
       "  <thead>\n",
       "    <tr style=\"text-align: right;\">\n",
       "      <th></th>\n",
       "      <th>bwt</th>\n",
       "      <th>gestation</th>\n",
       "      <th>parity</th>\n",
       "      <th>age</th>\n",
       "      <th>height</th>\n",
       "      <th>weight</th>\n",
       "      <th>smoke</th>\n",
       "    </tr>\n",
       "  </thead>\n",
       "  <tbody>\n",
       "    <tr>\n",
       "      <th>0</th>\n",
       "      <td>120</td>\n",
       "      <td>284.0</td>\n",
       "      <td>0</td>\n",
       "      <td>27.0</td>\n",
       "      <td>62.0</td>\n",
       "      <td>100.0</td>\n",
       "      <td>non-smoker</td>\n",
       "    </tr>\n",
       "    <tr>\n",
       "      <th>1</th>\n",
       "      <td>113</td>\n",
       "      <td>282.0</td>\n",
       "      <td>0</td>\n",
       "      <td>33.0</td>\n",
       "      <td>64.0</td>\n",
       "      <td>135.0</td>\n",
       "      <td>non-smoker</td>\n",
       "    </tr>\n",
       "    <tr>\n",
       "      <th>2</th>\n",
       "      <td>128</td>\n",
       "      <td>279.0</td>\n",
       "      <td>0</td>\n",
       "      <td>28.0</td>\n",
       "      <td>64.0</td>\n",
       "      <td>115.0</td>\n",
       "      <td>smoker</td>\n",
       "    </tr>\n",
       "    <tr>\n",
       "      <th>4</th>\n",
       "      <td>108</td>\n",
       "      <td>282.0</td>\n",
       "      <td>0</td>\n",
       "      <td>23.0</td>\n",
       "      <td>67.0</td>\n",
       "      <td>125.0</td>\n",
       "      <td>smoker</td>\n",
       "    </tr>\n",
       "    <tr>\n",
       "      <th>5</th>\n",
       "      <td>136</td>\n",
       "      <td>286.0</td>\n",
       "      <td>0</td>\n",
       "      <td>25.0</td>\n",
       "      <td>62.0</td>\n",
       "      <td>93.0</td>\n",
       "      <td>non-smoker</td>\n",
       "    </tr>\n",
       "  </tbody>\n",
       "</table>\n",
       "</div>"
      ],
      "text/plain": [
       "   bwt  gestation  parity   age  height  weight       smoke\n",
       "0  120      284.0       0  27.0    62.0   100.0  non-smoker\n",
       "1  113      282.0       0  33.0    64.0   135.0  non-smoker\n",
       "2  128      279.0       0  28.0    64.0   115.0      smoker\n",
       "4  108      282.0       0  23.0    67.0   125.0      smoker\n",
       "5  136      286.0       0  25.0    62.0    93.0  non-smoker"
      ]
     },
     "execution_count": 46,
     "metadata": {},
     "output_type": "execute_result"
    }
   ],
   "source": [
    "#use the \"copy\" function to make a copy of the \"df1\" dataset into a variable named \"df2\"...\n",
    "\n",
    "df2 = df1.copy()\n",
    "\n",
    "# use the \"replace\" function to replace the numeric values in the \"smoke\" column with meaningful labels...\n",
    "\n",
    "df2['smoke'].replace([1,0], ['smoker', 'non-smoker'], inplace=True)\n",
    "\n",
    "# use the \"head\" function to view/display the changes of values in the \"smoke\" column...\n",
    "df2.head(5)\n",
    "\n"
   ]
  },
  {
   "cell_type": "code",
   "execution_count": 47,
   "metadata": {},
   "outputs": [
    {
     "data": {
      "text/html": [
       "<div>\n",
       "<style scoped>\n",
       "    .dataframe tbody tr th:only-of-type {\n",
       "        vertical-align: middle;\n",
       "    }\n",
       "\n",
       "    .dataframe tbody tr th {\n",
       "        vertical-align: top;\n",
       "    }\n",
       "\n",
       "    .dataframe thead th {\n",
       "        text-align: right;\n",
       "    }\n",
       "</style>\n",
       "<table border=\"1\" class=\"dataframe\">\n",
       "  <thead>\n",
       "    <tr style=\"text-align: right;\">\n",
       "      <th></th>\n",
       "      <th>bwt</th>\n",
       "      <th>gestation</th>\n",
       "      <th>parity</th>\n",
       "      <th>age</th>\n",
       "      <th>height</th>\n",
       "      <th>weight</th>\n",
       "      <th>smoke</th>\n",
       "    </tr>\n",
       "  </thead>\n",
       "  <tbody>\n",
       "    <tr>\n",
       "      <th>0</th>\n",
       "      <td>120</td>\n",
       "      <td>284.0</td>\n",
       "      <td>first pregnacy</td>\n",
       "      <td>27.0</td>\n",
       "      <td>62.0</td>\n",
       "      <td>100.0</td>\n",
       "      <td>non-smoker</td>\n",
       "    </tr>\n",
       "    <tr>\n",
       "      <th>1</th>\n",
       "      <td>113</td>\n",
       "      <td>282.0</td>\n",
       "      <td>first pregnacy</td>\n",
       "      <td>33.0</td>\n",
       "      <td>64.0</td>\n",
       "      <td>135.0</td>\n",
       "      <td>non-smoker</td>\n",
       "    </tr>\n",
       "    <tr>\n",
       "      <th>2</th>\n",
       "      <td>128</td>\n",
       "      <td>279.0</td>\n",
       "      <td>first pregnacy</td>\n",
       "      <td>28.0</td>\n",
       "      <td>64.0</td>\n",
       "      <td>115.0</td>\n",
       "      <td>smoker</td>\n",
       "    </tr>\n",
       "    <tr>\n",
       "      <th>4</th>\n",
       "      <td>108</td>\n",
       "      <td>282.0</td>\n",
       "      <td>first pregnacy</td>\n",
       "      <td>23.0</td>\n",
       "      <td>67.0</td>\n",
       "      <td>125.0</td>\n",
       "      <td>smoker</td>\n",
       "    </tr>\n",
       "    <tr>\n",
       "      <th>5</th>\n",
       "      <td>136</td>\n",
       "      <td>286.0</td>\n",
       "      <td>first pregnacy</td>\n",
       "      <td>25.0</td>\n",
       "      <td>62.0</td>\n",
       "      <td>93.0</td>\n",
       "      <td>non-smoker</td>\n",
       "    </tr>\n",
       "    <tr>\n",
       "      <th>6</th>\n",
       "      <td>138</td>\n",
       "      <td>244.0</td>\n",
       "      <td>first pregnacy</td>\n",
       "      <td>33.0</td>\n",
       "      <td>62.0</td>\n",
       "      <td>178.0</td>\n",
       "      <td>non-smoker</td>\n",
       "    </tr>\n",
       "    <tr>\n",
       "      <th>7</th>\n",
       "      <td>132</td>\n",
       "      <td>245.0</td>\n",
       "      <td>first pregnacy</td>\n",
       "      <td>23.0</td>\n",
       "      <td>65.0</td>\n",
       "      <td>140.0</td>\n",
       "      <td>non-smoker</td>\n",
       "    </tr>\n",
       "    <tr>\n",
       "      <th>8</th>\n",
       "      <td>120</td>\n",
       "      <td>289.0</td>\n",
       "      <td>first pregnacy</td>\n",
       "      <td>25.0</td>\n",
       "      <td>62.0</td>\n",
       "      <td>125.0</td>\n",
       "      <td>non-smoker</td>\n",
       "    </tr>\n",
       "    <tr>\n",
       "      <th>9</th>\n",
       "      <td>143</td>\n",
       "      <td>299.0</td>\n",
       "      <td>first pregnacy</td>\n",
       "      <td>30.0</td>\n",
       "      <td>66.0</td>\n",
       "      <td>136.0</td>\n",
       "      <td>smoker</td>\n",
       "    </tr>\n",
       "    <tr>\n",
       "      <th>10</th>\n",
       "      <td>140</td>\n",
       "      <td>351.0</td>\n",
       "      <td>first pregnacy</td>\n",
       "      <td>27.0</td>\n",
       "      <td>68.0</td>\n",
       "      <td>120.0</td>\n",
       "      <td>non-smoker</td>\n",
       "    </tr>\n",
       "  </tbody>\n",
       "</table>\n",
       "</div>"
      ],
      "text/plain": [
       "    bwt  gestation          parity   age  height  weight       smoke\n",
       "0   120      284.0  first pregnacy  27.0    62.0   100.0  non-smoker\n",
       "1   113      282.0  first pregnacy  33.0    64.0   135.0  non-smoker\n",
       "2   128      279.0  first pregnacy  28.0    64.0   115.0      smoker\n",
       "4   108      282.0  first pregnacy  23.0    67.0   125.0      smoker\n",
       "5   136      286.0  first pregnacy  25.0    62.0    93.0  non-smoker\n",
       "6   138      244.0  first pregnacy  33.0    62.0   178.0  non-smoker\n",
       "7   132      245.0  first pregnacy  23.0    65.0   140.0  non-smoker\n",
       "8   120      289.0  first pregnacy  25.0    62.0   125.0  non-smoker\n",
       "9   143      299.0  first pregnacy  30.0    66.0   136.0      smoker\n",
       "10  140      351.0  first pregnacy  27.0    68.0   120.0  non-smoker"
      ]
     },
     "execution_count": 47,
     "metadata": {},
     "output_type": "execute_result"
    }
   ],
   "source": [
    "# use the \"replace\" function to replace the numeric values in the \"parity\" column with meaningful labels...\n",
    "df2['parity'].replace([1,0], ['not first pregnacy', 'first pregnacy'], inplace=True)\n",
    "\n",
    "# use the \"head\" function to view/display the changes of values in the \"parity\" column...\n",
    "df2.head(10)"
   ]
  },
  {
   "cell_type": "code",
   "execution_count": 48,
   "metadata": {},
   "outputs": [
    {
     "data": {
      "text/html": [
       "<div>\n",
       "<style scoped>\n",
       "    .dataframe tbody tr th:only-of-type {\n",
       "        vertical-align: middle;\n",
       "    }\n",
       "\n",
       "    .dataframe tbody tr th {\n",
       "        vertical-align: top;\n",
       "    }\n",
       "\n",
       "    .dataframe thead th {\n",
       "        text-align: right;\n",
       "    }\n",
       "</style>\n",
       "<table border=\"1\" class=\"dataframe\">\n",
       "  <thead>\n",
       "    <tr style=\"text-align: right;\">\n",
       "      <th></th>\n",
       "      <th>bwt</th>\n",
       "      <th>gestation</th>\n",
       "      <th>parity</th>\n",
       "      <th>age</th>\n",
       "      <th>height</th>\n",
       "      <th>weight</th>\n",
       "      <th>smoke</th>\n",
       "    </tr>\n",
       "  </thead>\n",
       "  <tbody>\n",
       "    <tr>\n",
       "      <th>1231</th>\n",
       "      <td>113</td>\n",
       "      <td>275.0</td>\n",
       "      <td>not first pregnacy</td>\n",
       "      <td>27.0</td>\n",
       "      <td>60.0</td>\n",
       "      <td>100.0</td>\n",
       "      <td>non-smoker</td>\n",
       "    </tr>\n",
       "    <tr>\n",
       "      <th>1232</th>\n",
       "      <td>128</td>\n",
       "      <td>265.0</td>\n",
       "      <td>first pregnacy</td>\n",
       "      <td>24.0</td>\n",
       "      <td>67.0</td>\n",
       "      <td>120.0</td>\n",
       "      <td>non-smoker</td>\n",
       "    </tr>\n",
       "    <tr>\n",
       "      <th>1233</th>\n",
       "      <td>130</td>\n",
       "      <td>291.0</td>\n",
       "      <td>first pregnacy</td>\n",
       "      <td>30.0</td>\n",
       "      <td>65.0</td>\n",
       "      <td>150.0</td>\n",
       "      <td>smoker</td>\n",
       "    </tr>\n",
       "    <tr>\n",
       "      <th>1234</th>\n",
       "      <td>125</td>\n",
       "      <td>281.0</td>\n",
       "      <td>not first pregnacy</td>\n",
       "      <td>21.0</td>\n",
       "      <td>65.0</td>\n",
       "      <td>110.0</td>\n",
       "      <td>non-smoker</td>\n",
       "    </tr>\n",
       "    <tr>\n",
       "      <th>1235</th>\n",
       "      <td>117</td>\n",
       "      <td>297.0</td>\n",
       "      <td>first pregnacy</td>\n",
       "      <td>38.0</td>\n",
       "      <td>65.0</td>\n",
       "      <td>129.0</td>\n",
       "      <td>non-smoker</td>\n",
       "    </tr>\n",
       "  </tbody>\n",
       "</table>\n",
       "</div>"
      ],
      "text/plain": [
       "      bwt  gestation              parity   age  height  weight       smoke\n",
       "1231  113      275.0  not first pregnacy  27.0    60.0   100.0  non-smoker\n",
       "1232  128      265.0      first pregnacy  24.0    67.0   120.0  non-smoker\n",
       "1233  130      291.0      first pregnacy  30.0    65.0   150.0      smoker\n",
       "1234  125      281.0  not first pregnacy  21.0    65.0   110.0  non-smoker\n",
       "1235  117      297.0      first pregnacy  38.0    65.0   129.0  non-smoker"
      ]
     },
     "execution_count": 48,
     "metadata": {},
     "output_type": "execute_result"
    }
   ],
   "source": [
    "# use the \"tail\" function to view/display the changes of values in the \"smoke\" column...\n",
    "\n",
    "df2.tail()"
   ]
  },
  {
   "cell_type": "markdown",
   "metadata": {},
   "source": [
    "### 11. Run a correlation matrix with your dataset. Which variables are correlated with birthweight? Describe the strength of the correlation between all the continuous independent variables and birthweight. "
   ]
  },
  {
   "cell_type": "code",
   "execution_count": 49,
   "metadata": {},
   "outputs": [
    {
     "data": {
      "text/html": [
       "<div>\n",
       "<style scoped>\n",
       "    .dataframe tbody tr th:only-of-type {\n",
       "        vertical-align: middle;\n",
       "    }\n",
       "\n",
       "    .dataframe tbody tr th {\n",
       "        vertical-align: top;\n",
       "    }\n",
       "\n",
       "    .dataframe thead th {\n",
       "        text-align: right;\n",
       "    }\n",
       "</style>\n",
       "<table border=\"1\" class=\"dataframe\">\n",
       "  <thead>\n",
       "    <tr style=\"text-align: right;\">\n",
       "      <th></th>\n",
       "      <th>bwt</th>\n",
       "      <th>gestation</th>\n",
       "      <th>age</th>\n",
       "      <th>height</th>\n",
       "      <th>weight</th>\n",
       "    </tr>\n",
       "  </thead>\n",
       "  <tbody>\n",
       "    <tr>\n",
       "      <th>bwt</th>\n",
       "      <td>1.000000</td>\n",
       "      <td>0.407543</td>\n",
       "      <td>0.026983</td>\n",
       "      <td>0.203704</td>\n",
       "      <td>0.155923</td>\n",
       "    </tr>\n",
       "    <tr>\n",
       "      <th>gestation</th>\n",
       "      <td>0.407543</td>\n",
       "      <td>1.000000</td>\n",
       "      <td>-0.053425</td>\n",
       "      <td>0.070470</td>\n",
       "      <td>0.023655</td>\n",
       "    </tr>\n",
       "    <tr>\n",
       "      <th>age</th>\n",
       "      <td>0.026983</td>\n",
       "      <td>-0.053425</td>\n",
       "      <td>1.000000</td>\n",
       "      <td>-0.006453</td>\n",
       "      <td>0.147322</td>\n",
       "    </tr>\n",
       "    <tr>\n",
       "      <th>height</th>\n",
       "      <td>0.203704</td>\n",
       "      <td>0.070470</td>\n",
       "      <td>-0.006453</td>\n",
       "      <td>1.000000</td>\n",
       "      <td>0.435287</td>\n",
       "    </tr>\n",
       "    <tr>\n",
       "      <th>weight</th>\n",
       "      <td>0.155923</td>\n",
       "      <td>0.023655</td>\n",
       "      <td>0.147322</td>\n",
       "      <td>0.435287</td>\n",
       "      <td>1.000000</td>\n",
       "    </tr>\n",
       "  </tbody>\n",
       "</table>\n",
       "</div>"
      ],
      "text/plain": [
       "                bwt  gestation       age    height    weight\n",
       "bwt        1.000000   0.407543  0.026983  0.203704  0.155923\n",
       "gestation  0.407543   1.000000 -0.053425  0.070470  0.023655\n",
       "age        0.026983  -0.053425  1.000000 -0.006453  0.147322\n",
       "height     0.203704   0.070470 -0.006453  1.000000  0.435287\n",
       "weight     0.155923   0.023655  0.147322  0.435287  1.000000"
      ]
     },
     "execution_count": 49,
     "metadata": {},
     "output_type": "execute_result"
    }
   ],
   "source": [
    "# use the \"corr\" function to view/display the correlation(s) among the numeric columns in the \"df2\" dataset...\n",
    "\n",
    "df2.corr()"
   ]
  },
  {
   "cell_type": "code",
   "execution_count": null,
   "metadata": {},
   "outputs": [],
   "source": [
    "# 1.0 - Perfect linear relationship\n",
    "# 0.70 - Strong relationship\n",
    "# 0.50 - Moderate relationship\n",
    "# 0.30 - Weak relationship\n",
    "# 0.0 - No linear relationship \n",
    "\n",
    "\n",
    "# the gestation, age, height, & weight variables have a correlation, of some sort, with birthweight...\n",
    "# the age variable basically no relationship with birthweight...\n",
    "# the height, & weight variables have a weak relationship with birthweight...\n",
    "# gestation has a weak-to-moderate relationship with birthweight, which is the strongest of all of the variables..."
   ]
  },
  {
   "cell_type": "markdown",
   "metadata": {},
   "source": [
    "### 12. Determine the relationship between birthweight and the categorical variables: parity and smoke. Use the groupby function to determine if there are any differences between birthweight and the different levels of the variables.  Does it seem like there is a relationship between these variables and birthweight?"
   ]
  },
  {
   "cell_type": "code",
   "execution_count": 50,
   "metadata": {},
   "outputs": [
    {
     "data": {
      "text/plain": [
       "parity\n",
       "first pregnacy        119.942263\n",
       "not first pregnacy    118.113636\n",
       "Name: bwt, dtype: float64"
      ]
     },
     "execution_count": 50,
     "metadata": {},
     "output_type": "execute_result"
    }
   ],
   "source": [
    "# use the \"groupby\" function to view/display the mean body weight (bwt) by \"parity\" column labels...\n",
    "\n",
    "df2[\"bwt\"].groupby(df2[\"parity\"]).mean()"
   ]
  },
  {
   "cell_type": "code",
   "execution_count": 51,
   "metadata": {},
   "outputs": [
    {
     "data": {
      "text/plain": [
       "smoke\n",
       "non-smoker    123.085315\n",
       "smoker        113.819172\n",
       "Name: bwt, dtype: float64"
      ]
     },
     "execution_count": 51,
     "metadata": {},
     "output_type": "execute_result"
    }
   ],
   "source": [
    "# use the \"groupby\" function to view/display the mean body weight (bwt) by \"smoke\" column labels...\n",
    "\n",
    "df2[\"bwt\"].groupby(df2[\"smoke\"]).mean()"
   ]
  },
  {
   "cell_type": "code",
   "execution_count": 53,
   "metadata": {},
   "outputs": [
    {
     "data": {
      "text/plain": [
       "119.46252129471891"
      ]
     },
     "execution_count": 53,
     "metadata": {},
     "output_type": "execute_result"
    }
   ],
   "source": [
    "# use the \"mean\" function to view/display the mean (average) of the body weight (\"bwt\")...\n",
    "\n",
    "df2[\"bwt\"].mean()"
   ]
  },
  {
   "cell_type": "code",
   "execution_count": null,
   "metadata": {},
   "outputs": [],
   "source": [
    "# there does not seem to be a strong relationship between birthweight and parity...\n",
    "# there does seem to be some type of relationship between birthweight and smoke..."
   ]
  },
  {
   "cell_type": "markdown",
   "metadata": {},
   "source": [
    "### 13. Let's construct your regression model. Firstly, which variables do you plan to include in your model, and why? In the space below, write your justification for why you are including each variable. "
   ]
  },
  {
   "cell_type": "code",
   "execution_count": null,
   "metadata": {},
   "outputs": [],
   "source": [
    "# birth weight (\"bwt\") will be the dependent variable...\n",
    "\n",
    "# the following variables will be the independent variables in the regression model:\n",
    "# age - even though there does not seem to be a strong correlation, it will be interesting to see the results with the\n",
    "# variable in the regression analysis...\n",
    "# smoke - there seems to be some relationship (based on the mean)...\n",
    "# height - there seems to be some relationship (not a strong one)...\n",
    "# weight - there seems to be some relationship (not a strong one)...\n",
    "# gestation - it has the strongest correlation/relationship ..."
   ]
  },
  {
   "cell_type": "markdown",
   "metadata": {},
   "source": [
    "### 14. Construct your regression model and print the summary. Write out your full interpretation of the regression results. If you are not happy with the results, tweak your model and run it again. "
   ]
  },
  {
   "cell_type": "code",
   "execution_count": 55,
   "metadata": {
    "scrolled": true
   },
   "outputs": [
    {
     "data": {
      "text/html": [
       "<table class=\"simpletable\">\n",
       "<caption>OLS Regression Results</caption>\n",
       "<tr>\n",
       "  <th>Dep. Variable:</th>           <td>bwt</td>       <th>  R-squared:         </th> <td>   0.252</td>\n",
       "</tr>\n",
       "<tr>\n",
       "  <th>Model:</th>                   <td>OLS</td>       <th>  Adj. R-squared:    </th> <td>   0.249</td>\n",
       "</tr>\n",
       "<tr>\n",
       "  <th>Method:</th>             <td>Least Squares</td>  <th>  F-statistic:       </th> <td>   78.88</td>\n",
       "</tr>\n",
       "<tr>\n",
       "  <th>Date:</th>             <td>Sat, 03 Jul 2021</td> <th>  Prob (F-statistic):</th> <td>2.22e-71</td>\n",
       "</tr>\n",
       "<tr>\n",
       "  <th>Time:</th>                 <td>00:54:59</td>     <th>  Log-Likelihood:    </th> <td> -4909.1</td>\n",
       "</tr>\n",
       "<tr>\n",
       "  <th>No. Observations:</th>      <td>  1174</td>      <th>  AIC:               </th> <td>   9830.</td>\n",
       "</tr>\n",
       "<tr>\n",
       "  <th>Df Residuals:</th>          <td>  1168</td>      <th>  BIC:               </th> <td>   9861.</td>\n",
       "</tr>\n",
       "<tr>\n",
       "  <th>Df Model:</th>              <td>     5</td>      <th>                     </th>     <td> </td>   \n",
       "</tr>\n",
       "<tr>\n",
       "  <th>Covariance Type:</th>      <td>nonrobust</td>    <th>                     </th>     <td> </td>   \n",
       "</tr>\n",
       "</table>\n",
       "<table class=\"simpletable\">\n",
       "<tr>\n",
       "           <td></td>             <th>coef</th>     <th>std err</th>      <th>t</th>      <th>P>|t|</th>  <th>[0.025</th>    <th>0.975]</th>  \n",
       "</tr>\n",
       "<tr>\n",
       "  <th>Intercept</th>          <td>  -80.1817</td> <td>   14.393</td> <td>   -5.571</td> <td> 0.000</td> <td> -108.422</td> <td>  -51.942</td>\n",
       "</tr>\n",
       "<tr>\n",
       "  <th>C(smoke)[T.smoker]</th> <td>   -8.2949</td> <td>    0.956</td> <td>   -8.674</td> <td> 0.000</td> <td>  -10.171</td> <td>   -6.419</td>\n",
       "</tr>\n",
       "<tr>\n",
       "  <th>age</th>                <td>    0.0761</td> <td>    0.081</td> <td>    0.938</td> <td> 0.348</td> <td>   -0.083</td> <td>    0.235</td>\n",
       "</tr>\n",
       "<tr>\n",
       "  <th>height</th>             <td>    1.1113</td> <td>    0.205</td> <td>    5.416</td> <td> 0.000</td> <td>    0.709</td> <td>    1.514</td>\n",
       "</tr>\n",
       "<tr>\n",
       "  <th>weight</th>             <td>    0.0560</td> <td>    0.025</td> <td>    2.217</td> <td> 0.027</td> <td>    0.006</td> <td>    0.106</td>\n",
       "</tr>\n",
       "<tr>\n",
       "  <th>gestation</th>          <td>    0.4387</td> <td>    0.029</td> <td>   15.056</td> <td> 0.000</td> <td>    0.382</td> <td>    0.496</td>\n",
       "</tr>\n",
       "</table>\n",
       "<table class=\"simpletable\">\n",
       "<tr>\n",
       "  <th>Omnibus:</th>       <td> 5.619</td> <th>  Durbin-Watson:     </th> <td>   2.055</td>\n",
       "</tr>\n",
       "<tr>\n",
       "  <th>Prob(Omnibus):</th> <td> 0.060</td> <th>  Jarque-Bera (JB):  </th> <td>   6.872</td>\n",
       "</tr>\n",
       "<tr>\n",
       "  <th>Skew:</th>          <td> 0.038</td> <th>  Prob(JB):          </th> <td>  0.0322</td>\n",
       "</tr>\n",
       "<tr>\n",
       "  <th>Kurtosis:</th>      <td> 3.367</td> <th>  Cond. No.          </th> <td>9.80e+03</td>\n",
       "</tr>\n",
       "</table><br/><br/>Notes:<br/>[1] Standard Errors assume that the covariance matrix of the errors is correctly specified.<br/>[2] The condition number is large, 9.8e+03. This might indicate that there are<br/>strong multicollinearity or other numerical problems."
      ],
      "text/plain": [
       "<class 'statsmodels.iolib.summary.Summary'>\n",
       "\"\"\"\n",
       "                            OLS Regression Results                            \n",
       "==============================================================================\n",
       "Dep. Variable:                    bwt   R-squared:                       0.252\n",
       "Model:                            OLS   Adj. R-squared:                  0.249\n",
       "Method:                 Least Squares   F-statistic:                     78.88\n",
       "Date:                Sat, 03 Jul 2021   Prob (F-statistic):           2.22e-71\n",
       "Time:                        00:54:59   Log-Likelihood:                -4909.1\n",
       "No. Observations:                1174   AIC:                             9830.\n",
       "Df Residuals:                    1168   BIC:                             9861.\n",
       "Df Model:                           5                                         \n",
       "Covariance Type:            nonrobust                                         \n",
       "======================================================================================\n",
       "                         coef    std err          t      P>|t|      [0.025      0.975]\n",
       "--------------------------------------------------------------------------------------\n",
       "Intercept            -80.1817     14.393     -5.571      0.000    -108.422     -51.942\n",
       "C(smoke)[T.smoker]    -8.2949      0.956     -8.674      0.000     -10.171      -6.419\n",
       "age                    0.0761      0.081      0.938      0.348      -0.083       0.235\n",
       "height                 1.1113      0.205      5.416      0.000       0.709       1.514\n",
       "weight                 0.0560      0.025      2.217      0.027       0.006       0.106\n",
       "gestation              0.4387      0.029     15.056      0.000       0.382       0.496\n",
       "==============================================================================\n",
       "Omnibus:                        5.619   Durbin-Watson:                   2.055\n",
       "Prob(Omnibus):                  0.060   Jarque-Bera (JB):                6.872\n",
       "Skew:                           0.038   Prob(JB):                       0.0322\n",
       "Kurtosis:                       3.367   Cond. No.                     9.80e+03\n",
       "==============================================================================\n",
       "\n",
       "Notes:\n",
       "[1] Standard Errors assume that the covariance matrix of the errors is correctly specified.\n",
       "[2] The condition number is large, 9.8e+03. This might indicate that there are\n",
       "strong multicollinearity or other numerical problems.\n",
       "\"\"\""
      ]
     },
     "execution_count": 55,
     "metadata": {},
     "output_type": "execute_result"
    }
   ],
   "source": [
    "# Create/construct a regression model...\n",
    "\n",
    "# \"result\" is the variable name that is assigned the regression formula/model...\n",
    "# \"sm\" is the shorthand for the linear regression model...\n",
    "# \"ols\" is \"Ordinary Least Squares\", the most common method of calculating the regression line...\n",
    "\n",
    "# \"bwt\" (birth weight) is the dependent variable...\n",
    "\n",
    "# \"age\", \"height\", \"weight\", & \"gestation\" are independent variables (numeric)...\n",
    "# \"smoke\" is an independent variable (categorical)...\n",
    "\n",
    "# \"data\" is the variable name that represents the dataset that the data comes from...\n",
    "\n",
    "# use the \"fit\" function to calculate the best linear regression line via the use of predictive values...\n",
    "\n",
    "result = sm.ols('bwt ~ age + height + weight + gestation + C(smoke)', \n",
    "                data = df2).fit()\n",
    "\n",
    "# use the \"summary\" function to show/display the calculated values (slopes and y-intercept)\n",
    "# for the linear regression formula...\n",
    "\n",
    "result.summary()"
   ]
  },
  {
   "cell_type": "code",
   "execution_count": null,
   "metadata": {},
   "outputs": [],
   "source": [
    "# y = b + (m1 x X1) + (m2 x X2) + (m3 x X3) + ....etc.\n",
    "# grade(y) = 58.5316 + [1.9162 x hours of study(x1)] + [0.9892 x hours exercise(x2)]\n",
    "\n",
    "# here is the multiple linear regression equation:\n",
    "\n",
    "# bwt(y) = -80.1817(b) + [0.0761 x age(x1)] + [1.1113 x height(x2)] + [0.0560 x weight(x3)]\n",
    "# + [0.4387 x gestation(x4)] + [-8.2949 x smoker(x5)]\n",
    "\n",
    "# looking that the p-values (P>|t|), the value for \"age\" is 0.348. This means that the \"age\" variable is, in the\n",
    "# multiple linear regression analysis, insignificant...the correlation coefficient between \"bwt\" & \"age\" (0.026983)\n",
    "# confirms this..."
   ]
  },
  {
   "cell_type": "code",
   "execution_count": 56,
   "metadata": {},
   "outputs": [
    {
     "data": {
      "text/html": [
       "<table class=\"simpletable\">\n",
       "<caption>OLS Regression Results</caption>\n",
       "<tr>\n",
       "  <th>Dep. Variable:</th>           <td>bwt</td>       <th>  R-squared:         </th> <td>   0.252</td>\n",
       "</tr>\n",
       "<tr>\n",
       "  <th>Model:</th>                   <td>OLS</td>       <th>  Adj. R-squared:    </th> <td>   0.249</td>\n",
       "</tr>\n",
       "<tr>\n",
       "  <th>Method:</th>             <td>Least Squares</td>  <th>  F-statistic:       </th> <td>   98.39</td>\n",
       "</tr>\n",
       "<tr>\n",
       "  <th>Date:</th>             <td>Sat, 03 Jul 2021</td> <th>  Prob (F-statistic):</th> <td>3.25e-72</td>\n",
       "</tr>\n",
       "<tr>\n",
       "  <th>Time:</th>                 <td>00:57:08</td>     <th>  Log-Likelihood:    </th> <td> -4909.5</td>\n",
       "</tr>\n",
       "<tr>\n",
       "  <th>No. Observations:</th>      <td>  1174</td>      <th>  AIC:               </th> <td>   9829.</td>\n",
       "</tr>\n",
       "<tr>\n",
       "  <th>Df Residuals:</th>          <td>  1169</td>      <th>  BIC:               </th> <td>   9854.</td>\n",
       "</tr>\n",
       "<tr>\n",
       "  <th>Df Model:</th>              <td>     4</td>      <th>                     </th>     <td> </td>   \n",
       "</tr>\n",
       "<tr>\n",
       "  <th>Covariance Type:</th>      <td>nonrobust</td>    <th>                     </th>     <td> </td>   \n",
       "</tr>\n",
       "</table>\n",
       "<table class=\"simpletable\">\n",
       "<tr>\n",
       "           <td></td>             <th>coef</th>     <th>std err</th>      <th>t</th>      <th>P>|t|</th>  <th>[0.025</th>    <th>0.975]</th>  \n",
       "</tr>\n",
       "<tr>\n",
       "  <th>Intercept</th>          <td>  -77.2587</td> <td>   14.051</td> <td>   -5.498</td> <td> 0.000</td> <td> -104.827</td> <td>  -49.690</td>\n",
       "</tr>\n",
       "<tr>\n",
       "  <th>C(smoke)[T.smoker]</th> <td>   -8.3483</td> <td>    0.955</td> <td>   -8.746</td> <td> 0.000</td> <td>  -10.221</td> <td>   -6.476</td>\n",
       "</tr>\n",
       "<tr>\n",
       "  <th>height</th>             <td>    1.0973</td> <td>    0.205</td> <td>    5.363</td> <td> 0.000</td> <td>    0.696</td> <td>    1.499</td>\n",
       "</tr>\n",
       "<tr>\n",
       "  <th>weight</th>             <td>    0.0598</td> <td>    0.025</td> <td>    2.401</td> <td> 0.017</td> <td>    0.011</td> <td>    0.109</td>\n",
       "</tr>\n",
       "<tr>\n",
       "  <th>gestation</th>          <td>    0.4372</td> <td>    0.029</td> <td>   15.028</td> <td> 0.000</td> <td>    0.380</td> <td>    0.494</td>\n",
       "</tr>\n",
       "</table>\n",
       "<table class=\"simpletable\">\n",
       "<tr>\n",
       "  <th>Omnibus:</th>       <td> 5.735</td> <th>  Durbin-Watson:     </th> <td>   2.055</td>\n",
       "</tr>\n",
       "<tr>\n",
       "  <th>Prob(Omnibus):</th> <td> 0.057</td> <th>  Jarque-Bera (JB):  </th> <td>   6.974</td>\n",
       "</tr>\n",
       "<tr>\n",
       "  <th>Skew:</th>          <td> 0.046</td> <th>  Prob(JB):          </th> <td>  0.0306</td>\n",
       "</tr>\n",
       "<tr>\n",
       "  <th>Kurtosis:</th>      <td> 3.366</td> <th>  Cond. No.          </th> <td>9.53e+03</td>\n",
       "</tr>\n",
       "</table><br/><br/>Notes:<br/>[1] Standard Errors assume that the covariance matrix of the errors is correctly specified.<br/>[2] The condition number is large, 9.53e+03. This might indicate that there are<br/>strong multicollinearity or other numerical problems."
      ],
      "text/plain": [
       "<class 'statsmodels.iolib.summary.Summary'>\n",
       "\"\"\"\n",
       "                            OLS Regression Results                            \n",
       "==============================================================================\n",
       "Dep. Variable:                    bwt   R-squared:                       0.252\n",
       "Model:                            OLS   Adj. R-squared:                  0.249\n",
       "Method:                 Least Squares   F-statistic:                     98.39\n",
       "Date:                Sat, 03 Jul 2021   Prob (F-statistic):           3.25e-72\n",
       "Time:                        00:57:08   Log-Likelihood:                -4909.5\n",
       "No. Observations:                1174   AIC:                             9829.\n",
       "Df Residuals:                    1169   BIC:                             9854.\n",
       "Df Model:                           4                                         \n",
       "Covariance Type:            nonrobust                                         \n",
       "======================================================================================\n",
       "                         coef    std err          t      P>|t|      [0.025      0.975]\n",
       "--------------------------------------------------------------------------------------\n",
       "Intercept            -77.2587     14.051     -5.498      0.000    -104.827     -49.690\n",
       "C(smoke)[T.smoker]    -8.3483      0.955     -8.746      0.000     -10.221      -6.476\n",
       "height                 1.0973      0.205      5.363      0.000       0.696       1.499\n",
       "weight                 0.0598      0.025      2.401      0.017       0.011       0.109\n",
       "gestation              0.4372      0.029     15.028      0.000       0.380       0.494\n",
       "==============================================================================\n",
       "Omnibus:                        5.735   Durbin-Watson:                   2.055\n",
       "Prob(Omnibus):                  0.057   Jarque-Bera (JB):                6.974\n",
       "Skew:                           0.046   Prob(JB):                       0.0306\n",
       "Kurtosis:                       3.366   Cond. No.                     9.53e+03\n",
       "==============================================================================\n",
       "\n",
       "Notes:\n",
       "[1] Standard Errors assume that the covariance matrix of the errors is correctly specified.\n",
       "[2] The condition number is large, 9.53e+03. This might indicate that there are\n",
       "strong multicollinearity or other numerical problems.\n",
       "\"\"\""
      ]
     },
     "execution_count": 56,
     "metadata": {},
     "output_type": "execute_result"
    }
   ],
   "source": [
    "# Create/construct another regression model...\n",
    "# this model will be without the \"age\" variable...\n",
    "\n",
    "# \"result\" is the variable name that is assigned the regression formula/model...\n",
    "# \"sm\" is the shorthand for the linear regression model...\n",
    "# \"ols\" is \"Ordinary Least Squares\", the most common method of calculating the regression line...\n",
    "\n",
    "# \"bwt\" (birth weight) is the dependent variable...\n",
    "\n",
    "# \"height\", \"weight\", & \"gestation\" are independent variables (numeric)...\n",
    "# \"smoke\" is an independent variable (categorical)...\n",
    "\n",
    "# \"data\" is the variable name that represents the dataset that the data comes from...\n",
    "\n",
    "# use the \"fit\" function to calculate the best linear regression line via the use of predictive values...\n",
    "\n",
    "result = sm.ols('bwt ~ height + weight + gestation + C(smoke)', \n",
    "                data = df2).fit()\n",
    "\n",
    "# use the \"summary\" function to show/display the calculated values (slopes and y-intercept)\n",
    "# for the linear regression formula...\n",
    "\n",
    "result.summary()"
   ]
  },
  {
   "cell_type": "code",
   "execution_count": null,
   "metadata": {},
   "outputs": [],
   "source": [
    "# here is the multiple linear regression equation (without the \"age\" variable):\n",
    "\n",
    "# bwt(y) = -77.2587(b) + [1.0973 x height(x1)] + [0.0598 x weight(x2)]\n",
    "# + [0.4387 x gestation(x3)] + [-8.3483 x smoker(x4)]\n",
    "\n",
    "# looking that the p-values (P>|t|), the value for \"weight\" is 0.017. In the regression model that included the \n",
    "# \"age\", the p-value for \"weight\" was 0.027. This means that the \"weight\" variable is a bit more signficant in the\n",
    "# regression model that did not include \"age\"...\n"
   ]
  },
  {
   "cell_type": "markdown",
   "metadata": {},
   "source": [
    "### 15. Create three scenarios (i.e. make up specific values) and predict the birthweight given these factors using the information on the model you were most pleased with. "
   ]
  },
  {
   "cell_type": "code",
   "execution_count": 57,
   "metadata": {},
   "outputs": [
    {
     "data": {
      "text/html": [
       "<div>\n",
       "<style scoped>\n",
       "    .dataframe tbody tr th:only-of-type {\n",
       "        vertical-align: middle;\n",
       "    }\n",
       "\n",
       "    .dataframe tbody tr th {\n",
       "        vertical-align: top;\n",
       "    }\n",
       "\n",
       "    .dataframe thead th {\n",
       "        text-align: right;\n",
       "    }\n",
       "</style>\n",
       "<table border=\"1\" class=\"dataframe\">\n",
       "  <thead>\n",
       "    <tr style=\"text-align: right;\">\n",
       "      <th></th>\n",
       "      <th>bwt</th>\n",
       "      <th>gestation</th>\n",
       "      <th>age</th>\n",
       "      <th>height</th>\n",
       "      <th>weight</th>\n",
       "    </tr>\n",
       "  </thead>\n",
       "  <tbody>\n",
       "    <tr>\n",
       "      <th>count</th>\n",
       "      <td>1174.000000</td>\n",
       "      <td>1174.000000</td>\n",
       "      <td>1174.000000</td>\n",
       "      <td>1174.000000</td>\n",
       "      <td>1174.000000</td>\n",
       "    </tr>\n",
       "    <tr>\n",
       "      <th>mean</th>\n",
       "      <td>119.462521</td>\n",
       "      <td>279.101363</td>\n",
       "      <td>27.228279</td>\n",
       "      <td>64.049404</td>\n",
       "      <td>128.478705</td>\n",
       "    </tr>\n",
       "    <tr>\n",
       "      <th>std</th>\n",
       "      <td>18.328671</td>\n",
       "      <td>16.010305</td>\n",
       "      <td>5.817839</td>\n",
       "      <td>2.526102</td>\n",
       "      <td>20.734282</td>\n",
       "    </tr>\n",
       "    <tr>\n",
       "      <th>min</th>\n",
       "      <td>55.000000</td>\n",
       "      <td>148.000000</td>\n",
       "      <td>15.000000</td>\n",
       "      <td>53.000000</td>\n",
       "      <td>87.000000</td>\n",
       "    </tr>\n",
       "    <tr>\n",
       "      <th>25%</th>\n",
       "      <td>108.000000</td>\n",
       "      <td>272.000000</td>\n",
       "      <td>23.000000</td>\n",
       "      <td>62.000000</td>\n",
       "      <td>114.250000</td>\n",
       "    </tr>\n",
       "    <tr>\n",
       "      <th>50%</th>\n",
       "      <td>120.000000</td>\n",
       "      <td>280.000000</td>\n",
       "      <td>26.000000</td>\n",
       "      <td>64.000000</td>\n",
       "      <td>125.000000</td>\n",
       "    </tr>\n",
       "    <tr>\n",
       "      <th>75%</th>\n",
       "      <td>131.000000</td>\n",
       "      <td>288.000000</td>\n",
       "      <td>31.000000</td>\n",
       "      <td>66.000000</td>\n",
       "      <td>139.000000</td>\n",
       "    </tr>\n",
       "    <tr>\n",
       "      <th>max</th>\n",
       "      <td>176.000000</td>\n",
       "      <td>353.000000</td>\n",
       "      <td>45.000000</td>\n",
       "      <td>72.000000</td>\n",
       "      <td>250.000000</td>\n",
       "    </tr>\n",
       "  </tbody>\n",
       "</table>\n",
       "</div>"
      ],
      "text/plain": [
       "               bwt    gestation          age       height       weight\n",
       "count  1174.000000  1174.000000  1174.000000  1174.000000  1174.000000\n",
       "mean    119.462521   279.101363    27.228279    64.049404   128.478705\n",
       "std      18.328671    16.010305     5.817839     2.526102    20.734282\n",
       "min      55.000000   148.000000    15.000000    53.000000    87.000000\n",
       "25%     108.000000   272.000000    23.000000    62.000000   114.250000\n",
       "50%     120.000000   280.000000    26.000000    64.000000   125.000000\n",
       "75%     131.000000   288.000000    31.000000    66.000000   139.000000\n",
       "max     176.000000   353.000000    45.000000    72.000000   250.000000"
      ]
     },
     "execution_count": 57,
     "metadata": {},
     "output_type": "execute_result"
    }
   ],
   "source": [
    "# using the model without the \"age\" variable:\n",
    "\n",
    "# bwt(y) = -77.2587(b) + [1.0973 x height(x1)] + [0.0598 x weight(x2)]\n",
    "# + [0.4387 x gestation(x3)] + [-8.3483 x smoker(x4)]\n",
    "\n",
    "# use the \"describe\" function to view/display descriptive statistics...\n",
    "df2.describe()"
   ]
  },
  {
   "cell_type": "code",
   "execution_count": 68,
   "metadata": {},
   "outputs": [
    {
     "name": "stdout",
     "output_type": "stream",
     "text": [
      "Predicted birth weight = 123.02 ounces\n"
     ]
    }
   ],
   "source": [
    "# weight: 128 lbs.\n",
    "# height: 64 in. (5 ft. 4 in.)\n",
    "# gestation: 279 days\n",
    "# smoke: non-smoker\n",
    "\n",
    "# bwt(y) = -77.2587(b) + [1.0973 x height(x1)] + [0.0598 x weight(x2)]\n",
    "# + [0.4387 x gestation(x3)] + [-8.3483 x smoker(x4)]\n",
    "\n",
    "birth_weight = round((-77.2587 + (1.0973 * 64) + (0.0598 * 128) + (0.4387 * 279) + (-8.3483 * 0)), 2)\n",
    "print(f\"Predicted birth weight = {birth_weight} ounces\")"
   ]
  },
  {
   "cell_type": "code",
   "execution_count": 67,
   "metadata": {},
   "outputs": [
    {
     "name": "stdout",
     "output_type": "stream",
     "text": [
      "Predicted birth weight = 114.67 ounces\n"
     ]
    }
   ],
   "source": [
    "# weight: 128 lbs.\n",
    "# height: 64 in. (5 ft. 4 in.)\n",
    "# gestation: 279 days\n",
    "# smoke: smoker\n",
    "\n",
    "# bwt(y) = -77.2587(b) + [1.0973 x height(x1)] + [0.0598 x weight(x2)]\n",
    "# + [0.4387 x gestation(x3)] + [-8.3483 x smoker(x4)]\n",
    "\n",
    "birth_weight = round((-77.2587 + (1.0973 * 64) + (0.0598 * 128) + (0.4387 * 279) + (-8.3483 * 1)), 2)\n",
    "print(f\"Predicted birth weight = {birth_weight} ounces\")"
   ]
  },
  {
   "cell_type": "code",
   "execution_count": 69,
   "metadata": {},
   "outputs": [
    {
     "name": "stdout",
     "output_type": "stream",
     "text": [
      "using the predicted birth weights (smoking & non-smoking, the average predicted birth weight is about 118.845 ounces\n"
     ]
    }
   ],
   "source": [
    "average_bwt = (123.02 + 114.67)/2\n",
    "print(f\"using the predicted birth weights (smoking & non-smoking, the average predicted birth weight is about {average_bwt} ounces\")"
   ]
  },
  {
   "cell_type": "code",
   "execution_count": null,
   "metadata": {},
   "outputs": [],
   "source": [
    "# 118.845 ounces is close to the mean value of birth weight (119.462521 ounces)..."
   ]
  },
  {
   "cell_type": "code",
   "execution_count": 66,
   "metadata": {},
   "outputs": [
    {
     "name": "stdout",
     "output_type": "stream",
     "text": [
      "Predicted birth weight = 129.82 ounces\n"
     ]
    }
   ],
   "source": [
    "# weight: 139 lbs.\n",
    "# height: 66 in. (5 ft. 6 in.)\n",
    "# gestation: 288 days\n",
    "# smoke: non-smoker\n",
    "\n",
    "\n",
    "# bwt(y) = -77.2587(b) + [1.0973 x height(x1)] + [0.0598 x weight(x2)]\n",
    "# + [0.4387 x gestation(x3)] + [-8.3483 x smoker(x4)]\n",
    "\n",
    "birth_weight = round((-77.2587 + (1.0973 * 66) + (0.0598 * 139) + (0.4387 * 288) + (-8.3483 * 0)), 2)\n",
    "print(f\"Predicted birth weight = {birth_weight} ounces\")\n",
    "\n"
   ]
  },
  {
   "cell_type": "markdown",
   "metadata": {},
   "source": [
    "## Great Job!! Submit your assignment via Canvas. "
   ]
  }
 ],
 "metadata": {
  "kernelspec": {
   "display_name": "Python 3",
   "language": "python",
   "name": "python3"
  },
  "language_info": {
   "codemirror_mode": {
    "name": "ipython",
    "version": 3
   },
   "file_extension": ".py",
   "mimetype": "text/x-python",
   "name": "python",
   "nbconvert_exporter": "python",
   "pygments_lexer": "ipython3",
   "version": "3.8.8"
  }
 },
 "nbformat": 4,
 "nbformat_minor": 4
}
